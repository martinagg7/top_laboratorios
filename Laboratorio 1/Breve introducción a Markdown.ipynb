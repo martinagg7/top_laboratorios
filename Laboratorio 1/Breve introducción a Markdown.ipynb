{
 "cells": [
  {
   "cell_type": "markdown",
   "id": "fa2a6055",
   "metadata": {},
   "source": [
    "\n",
    "# Breve introducción a `Markdown`\n",
    "\n",
    "Markdown es un lenguaje de marcado ligero que permite escribir documentos en texto plano que pueden ser fácilmente convertidos a formatos como HTML, PDF, entre otros. Fue creado en 2004 por John Gruber con la intención de crear una sintaxis fácil de leer y escribir, sin la complejidad de lenguajes de marcado como HTML.\n",
    "\n",
    "En el ámbito de la ciencia de datos y el análisis de datos, Markdown se utiliza ampliamente debido a su integración con herramientas como **Jupyter Notebooks**. Los analistas de datos pueden escribir documentación, explicar sus métodos y mostrar resultados en el mismo entorno en el que programan, haciendo más eficiente su flujo de trabajo. Python y Jupyter, en particular, han popularizado este lenguaje gracias a su capacidad de combinar código ejecutable con explicaciones claras y bien formateadas.\n"
   ]
  },
  {
   "cell_type": "markdown",
   "id": "9273cd18",
   "metadata": {},
   "source": [
    "\n",
    "## Comandos básicos en Markdown\n",
    "\n",
    "A continuación, veremos algunos comandos esenciales de Markdown que te permitirán formatear textos en tus notebooks de forma sencilla.\n"
   ]
  },
  {
   "cell_type": "markdown",
   "id": "aa2fcfeb",
   "metadata": {},
   "source": [
    "\n",
    "### 1. Títulos\n",
    "\n",
    "Los títulos se crean utilizando el símbolo `#`. Cuantos más símbolos `#`, más bajo el nivel del título.\n",
    "\n",
    "```markdown\n",
    "# Título de nivel 1\n",
    "## Título de nivel 2\n",
    "### Título de nivel 3\n",
    "#### Título de nivel 4\n",
    "##### Título de nivel 5\n",
    "###### Título de nivel 6\n",
    "```\n",
    "\n",
    "Resultado:\n",
    "\n",
    "# Título de nivel 1  \n",
    "## Título de nivel 2  \n",
    "### Título de nivel 3\n",
    "#### Título de nivel 4\n",
    "##### Título de nivel 5\n",
    "###### Título de nivel 6\n",
    "\n",
    "Nota: no hay más de 6 niveles."
   ]
  },
  {
   "cell_type": "markdown",
   "id": "06f795e8",
   "metadata": {},
   "source": [
    "### 2. Texto simple\n",
    "\n",
    "Para crear texto simple, solo escribe las palabras deseadas. Por ejemplo:\n",
    "\n",
    "Lorem ipsum dolor sit amet, consectetur adipiscing elit, sed do eiusmod tempor incididunt ut labore et dolore magna aliqua. Ut enim ad minim veniam, quis nostrud exercitation ullamco laboris nisi ut aliquip ex ea commodo consequat. Duis aute irure dolor in reprehenderit in voluptate velit esse cillum dolore eu fugiat nulla pariatur. Excepteur sint occaecat cupidatat non proident, sunt in culpa qui officia deserunt mollit anim id est laborum."
   ]
  },
  {
   "cell_type": "markdown",
   "id": "63c16abd",
   "metadata": {},
   "source": [
    "\n",
    "### 3. Texto enfatizado\n",
    "\n",
    "Podemos enfatizar texto de diferentes maneras:\n",
    "\n",
    "- **Negrita**: usa dobles asteriscos `**` o dobles guiones bajos `__`.\n",
    "- *Cursiva*: usa un solo asterisco `*` o guion bajo `_`.\n",
    "- ***Negrita y cursiva***: usa triple asteriscos `***` o tripes guiones bajos `___`.\n",
    "- > Citas:  usa el símbolo `>` o  `<blockquote>` y `</blockquote>`.\n",
    "\n",
    "A continuación se muestran algunos ejemplos:\n",
    "\n",
    "```markdown\n",
    "Esto es un ejemplo de **texto en negrita**.\n",
    "\n",
    "Esto es un ejemplo de *texto en cursiva*.\n",
    "\n",
    "Esto es un ejemplo de ***texto en negrita***.\n",
    "\n",
    "> Esto es un ejemplo de cita.\n",
    "```\n",
    "\n",
    "Resultado:\n",
    "\n",
    "Esto es un ejemplo de **texto en negrita**.\n",
    "\n",
    "Esto es un ejemplo de *texto en cursiva*.\n",
    "\n",
    "Esto es un ejemplo de ***texto en negrita***.\n",
    "\n",
    "> Esto es un ejemplo de cita.\n"
   ]
  },
  {
   "cell_type": "markdown",
   "id": "494624b3",
   "metadata": {},
   "source": [
    "\n",
    "### 4. Listas\n",
    "\n",
    "Puedes crear listas ordenadas y listas no ordenadas:\n",
    "\n",
    "**Lista ordenada**:\n",
    "\n",
    "```markdown\n",
    "1. Primer elemento\n",
    "2. Segundo elemento\n",
    "    1. Sub-elemento 1\n",
    "```\n",
    "\n",
    "Resultado:\n",
    "\n",
    "1. Primer elemento\n",
    "2. Segundo elemento\n",
    "    1. Sub-elemento 1\n",
    "\n",
    "\n",
    "**Lista desordenada**:\n",
    "\n",
    "```markdown\n",
    "- Elemento 1\n",
    "- Elemento 2\n",
    "    - Sub-elemento 1\n",
    "```\n",
    "\n",
    "Resultado:\n",
    "\n",
    "- Elemento 1\n",
    "- Elemento 2\n",
    "    - Sub-elemento 1"
   ]
  },
  {
   "cell_type": "markdown",
   "id": "a17e8389",
   "metadata": {},
   "source": [
    "\n",
    "### 5. Ecuaciones matemáticas\n",
    "\n",
    "Markdown también permite escribir ecuaciones matemáticas usando LaTeX. Para una ecuación en línea, utiliza `$`:\n",
    "\n",
    "```markdown\n",
    "La fórmula para la ecuación cuadrática es $ax^2 + bx + c = 0$.\n",
    "```\n",
    "Resultado:\n",
    "\n",
    "La fórmula para la ecuación cuadrática es $ax^2 + bx + c = 0$.\n",
    "\n",
    "Para ecuaciones en bloque, usa dobles símbolos `$$`:\n",
    "\n",
    "```markdown\n",
    "$$\n",
    "E = mc^2\n",
    "$$\n",
    "```\n",
    "\n",
    "Resultado:\n",
    "\n",
    "$$\n",
    "E = mc^2\n",
    "$$"
   ]
  },
  {
   "cell_type": "markdown",
   "id": "aea93024",
   "metadata": {},
   "source": [
    "Algunos ejemplos útiles en el contexto de la optimización:"
   ]
  },
  {
   "cell_type": "markdown",
   "id": "8f548bd8",
   "metadata": {},
   "source": [
    "$$f(x) = x^2 - 5\\cdot \\dfrac{\\sqrt{x}}{\\ln(x)}$$"
   ]
  },
  {
   "cell_type": "markdown",
   "id": "30d32eed",
   "metadata": {},
   "source": [
    "$$x_1 \\stackrel{\\text{def}}{=} \\text{litros de zumo N que debe producir diariamente}$$\n",
    "$$x_2 \\stackrel{\\text{def}}{=} \\text{litros de zumo E que debe producir diariamente}$$"
   ]
  },
  {
   "cell_type": "markdown",
   "id": "c19f18fd",
   "metadata": {},
   "source": [
    "$$5x_1+3x_2 \\leqslant 60$$"
   ]
  },
  {
   "cell_type": "markdown",
   "id": "c770f324",
   "metadata": {},
   "source": [
    "$$x_j \\geqslant 0, \\text{ para }j=1,\\ldots,10$$"
   ]
  },
  {
   "cell_type": "markdown",
   "id": "0e96bf8b",
   "metadata": {},
   "source": [
    "$$ \\begin{pmatrix}\n",
    "2 & 5 & 0\\\\\n",
    "7 & 3 & 8\\\\\n",
    "3 & 0 & 1\n",
    "\\end{pmatrix} $$"
   ]
  },
  {
   "cell_type": "markdown",
   "id": "30277030",
   "metadata": {},
   "source": [
    "$$\n",
    "\\begin{array}{ll}\n",
    "\\text{minimizar } & f(x_1,x_2,\\ldots,x_d) \\\\\n",
    "\\text{ \\,sujeto a } & (x_1,x_2,\\ldots,x_d)^\\top \\in \\mathcal{X}\n",
    "\\end{array}\n",
    "$$"
   ]
  },
  {
   "cell_type": "markdown",
   "id": "b6978d87",
   "metadata": {},
   "source": [
    "$$\n",
    "\\begin{array}{lrlrl}\n",
    "    \\text{maximizar }   & 3x_1 +5x_2   &       &    \\\\\n",
    "    \\text{ \\, sujeto a }   &   5x_1+5x_2 & \\leqslant  & {} 8\\\\\n",
    "                        &   3x_1+5x_2 & \\leqslant & {} 10\\\\\n",
    "                        &         x_2  &    \\leqslant     &   15          \\\\\n",
    "                        & x_1,x_2 & \\geqslant  & {} 0\n",
    "\\end{array}\n",
    "$$"
   ]
  },
  {
   "cell_type": "markdown",
   "id": "776ae3e7",
   "metadata": {},
   "source": [
    "\n",
    "### 6. Código\n",
    "\n",
    "Para mostrar código en línea, usa comillas invertidas `` ` ``:\n",
    "\n",
    "```markdown\n",
    "Este es un ejemplo de código en Python: `print(\"Hola, mundo\")`.\n",
    "```\n",
    "\n",
    "Para bloques de código, utiliza tres comillas invertidas ```:\n",
    "```Python\n",
    "import numpy as np\n",
    "\n",
    "np.sqrt(4)\n",
    "\n",
    "# This a comment inside the code\n",
    "for i in range(0,5) :\n",
    "    if i < 2 :\n",
    "        print(i)\n",
    "```\n"
   ]
  },
  {
   "cell_type": "markdown",
   "id": "650fb6e4",
   "metadata": {},
   "source": [
    "\n",
    "### 7. Tablas\n",
    "\n",
    "Markdown permite también crear tablas de forma sencilla.\n",
    "\n",
    "Ejemplo:\n",
    "\n",
    "```markdown\n",
    "| Columna 1 | Columna 2 | Columna 3 |\n",
    "| --------- | --------- | --------- |\n",
    "| Fila 1    | Valor 1   | Valor 2   |\n",
    "| Fila 2    | Valor 3   | Valor 4   |\n",
    "```\n",
    "\n",
    "Resultado:\n",
    "\n",
    "| Columna 1 | Columna 2 | Columna 3 |\n",
    "| --------- | --------- | --------- |\n",
    "| Fila 1    | Valor 1   | Valor 2   |\n",
    "| Fila 2    | Valor 3   | Valor 4   |\n"
   ]
  },
  {
   "cell_type": "markdown",
   "id": "07af56c6",
   "metadata": {},
   "source": [
    "\n",
    "### 7. Links\n",
    "\n",
    "```markdown\n",
    "[Esto es un ejemplo de link](https://www.uax.com)\n",
    "```\n",
    "Resultado:\n",
    "\n",
    "[Esto es un ejemplo de link](https://www.uax.com)\n"
   ]
  },
  {
   "cell_type": "markdown",
   "id": "c1d9aaa5",
   "metadata": {},
   "source": [
    "### 8. Imágenes\n",
    "\n",
    "```markdown\n",
    "<img src=https://upload.wikimedia.org/wikipedia/commons/c/c3/Python-logo-notext.svg alt=\"This is an image\" width=\"10%\">\n",
    "```\n",
    "\n",
    "Resultado:\n",
    "\n",
    "<img src=https://upload.wikimedia.org/wikipedia/commons/c/c3/Python-logo-notext.svg alt=\"This is an image\" width=\"10%\">"
   ]
  },
  {
   "cell_type": "markdown",
   "id": "0260ab24",
   "metadata": {},
   "source": [
    "### 9. Línea horizontal\n",
    "Puedes obtener una línea horizontal utilizando Markdown '---' tres guiones o `<hr>`.\n",
    "\n",
    "Resultado:\n",
    "\n",
    "\n",
    "---"
   ]
  },
  {
   "cell_type": "markdown",
   "id": "83f6d0b3",
   "metadata": {},
   "source": [
    "### 10. Documentación adicional\n",
    "\n",
    "Si quieres aprender más sobre Markdown puedes consultar los siguientes enlaces:\n",
    "\n",
    "[Tutorial de Markdown en Jupyter Notebook](https://www.datacamp.com/es/tutorial/markdown-in-jupyter-notebook)\n",
    "\n",
    "[Markdown: Introducción, guía rápida y sintaxis](https://www.qe2computing.com/procesamiento-de-texto/markdown/)\n",
    "\n",
    "[Uso de Markdown para el formato de texto](https://support.zendesk.com/hc/es/articles/4408846544922-Uso-de-Markdown-para-el-formato-de-texto)\n",
    "\n",
    "[Escribir ecuaciones en LaTeX](https://manualdelatex.com/tutoriales/ecuaciones)\n",
    "\n",
    "\n",
    "\n"
   ]
  }
 ],
 "metadata": {
  "language_info": {
   "name": "python"
  }
 },
 "nbformat": 4,
 "nbformat_minor": 5
}
